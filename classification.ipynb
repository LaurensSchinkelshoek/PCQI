{
 "cells": [
  {
   "cell_type": "code",
   "execution_count": 160,
   "id": "c0f20790-9890-4fa6-89f8-0c4b12f3e156",
   "metadata": {},
   "outputs": [],
   "source": [
    "import numpy as np\n",
    "import h5py\n",
    "import torch\n",
    "import torchmetrics\n",
    "import torch.nn.functional as F\n",
    "import pytorch_lightning as pl\n",
    "from sklearn.preprocessing import OneHotEncoder \n",
    "\n",
    "from torch.utils.data import Dataset, DataLoader\n",
    "from torch.nn import BatchNorm1d, Linear, ReLU, Sequential, MSELoss, Softmax, CrossEntropyLoss\n",
    "from torch_geometric.nn import DynamicEdgeConv, global_mean_pool\n",
    "from torch_geometric.data import Batch\n",
    "\n",
    "import matplotlib.pyplot as plt"
   ]
  },
  {
   "cell_type": "code",
   "execution_count": 161,
   "id": "57e8c003-51ad-4b60-8cec-2beddba081ff",
   "metadata": {},
   "outputs": [],
   "source": [
    "path='../project_data/small_set_1_train_0_shuffled.h5'\n",
    "with h5py.File(path, \"r\") as f:\n",
    "    enc_dict={-13:0,14:1,-14:2,12:3,-12:4}\n",
    "    array=f[\"y\"][7016:8032]['particle_type'].reshape(-1,1)"
   ]
  },
  {
   "cell_type": "code",
   "execution_count": 162,
   "id": "1b9ec6a4-3c01-47c6-9497-4ba16002ea55",
   "metadata": {},
   "outputs": [],
   "source": [
    "class HDF5Dataset(Dataset):\n",
    "    def __init__(self, path, features=[\"pos_x\", \"pos_y\", \"pos_z\", \"time\",\"tot\", \"dir_x\", \"dir_y\", \"dir_z\"], y_feature=\"particle_type\", particle_type=13.0, batch_size=16):\n",
    "        \"\"\" Loads the data from the hdf5 format provided by OrcaSong and converts it to data that can be used by PyTorch\n",
    "        \n",
    "        Args:\n",
    "            path (str): path to the dataset\n",
    "            features (list[str]): List of features to select from the event data and use as input features\n",
    "            y_feature  (str): Output feature to select\n",
    "            particle_type (None or float):  ID of the particle you want to classify, it will be label 0 and all else will be label 1.\n",
    "                                            Must be None when y_feature is not `particle_type`\n",
    "            batch_size (int): number of samples in mini batch\n",
    "        Examples:\n",
    "            Electron vs Background classification (default):\n",
    "            ```\n",
    "                HDF5Dataset(\"pathtodata.h5\", y_feature=\"particle_type\", particle_type=13.0)\n",
    "            ```\n",
    "            Energy regression with only xyzct:\n",
    "            ```\n",
    "                HDF5Dataset(\"pathtodata.h5\", features=[\"pos_x\", \"pos_y\", \"pos_z\", \"time\"], y_feature=\"energy\", particle_type=None)\n",
    "            ```\n",
    "\n",
    "        Lookup of table for particle_type of Leptons:\n",
    "          electron          | 11\n",
    "          electron neutrino | 12\n",
    "          muon              | 13\n",
    "          muon neutrino     | 14\n",
    "          tau               | 15\n",
    "          tau neutrino      | 16\n",
    "        Antiparticle is the same as particle but with minus sign\n",
    "        Source: https://pdg.lbl.gov/2007/reviews/montecarlorpp.pdf\n",
    "        \"\"\"\n",
    "        with h5py.File(path, \"r\") as f:\n",
    "            self.groups = list(dict(f).keys())\n",
    "            self.length = len(f[\"y\"]) // batch_size + 1\n",
    "            self._max_index = len(f[\"y\"])\n",
    "            self.encoder=OneHotEncoder(sparse=False)\n",
    "            self.encoder.fit(f[\"y\"][:2000]['particle_type'].reshape(-1,1))\n",
    "            print(\"The available y features are: \", f[\"y\"][0].dtype.names)\n",
    "        self.filename = path\n",
    "        if y_feature!=\"particle_type\":\n",
    "            assert particle_type==None, \"Selected a y_feature other than 'particle_type' and specified some value for particle_type as argument, which must be None for non particle_type output feature.\"\n",
    "        self.y_feature = y_feature\n",
    "        self.particle_type = particle_type\n",
    "        self.batch_size = batch_size\n",
    "        self._cache_x_column_names()\n",
    "        self.x_mask = self.init_x_mask(features)\n",
    "\n",
    "\n",
    "    def _cache_x_column_names(self):\n",
    "        \"\"\"Cache which columns are available in the features\n",
    "\n",
    "        Raises:\n",
    "            ValueError: It failed to read the hit_info columns\n",
    "        \"\"\"\n",
    "        try:\n",
    "            with h5py.File(self.filename, \"r\") as f:\n",
    "                self.x_feature_dict = {\n",
    "                    f[\"x\"].attrs[f\"hit_info_{i}\"]: i for i in range(f[\"x\"].shape[-1])\n",
    "                }\n",
    "            print(\"cached the following x input features\", self.x_feature_dict)\n",
    "        except Exception:\n",
    "            raise ValueError(\"Can not read column names from dataset attributes\")\n",
    "\n",
    "    def init_x_mask(self, features):\n",
    "        \"\"\"Compute a mask that is used to select the feature columns from the data\n",
    "\n",
    "        Args:\n",
    "            features (list[str]): list of features present to load\n",
    "\n",
    "        Returns:\n",
    "            np.array: selection of column index from the features to use\n",
    "        \"\"\"\n",
    "        x_mask = [self.x_feature_dict[feat] for feat in features]\n",
    "        return np.array(x_mask)\n",
    "\n",
    "    def __getitem__(self, index):\n",
    "        \"\"\"Get an sample from the h5 dataset\n",
    "        x contains: (x,y,z,ct, dir_x, dir_y, dir_z)\n",
    "        y contains a label \n",
    "\n",
    "        Args:\n",
    "            index (int): index of the batch\n",
    "\n",
    "        Returns:\n",
    "            x (torch.Tensor): Tensor with the x data (for each of the vertices)\n",
    "            y (torch.Tensor): Tensor with the y data (for the graph)\n",
    "            batch_idx (torch.Tensor): Tensor that assigns the right batch index to each x point\n",
    "        \"\"\"\n",
    "        with h5py.File(self.filename, \"r\") as f:\n",
    "            index = slice(index * self.batch_size, min(self._max_index,(index + 1) * self.batch_size))\n",
    "            \n",
    "            x = f[\"x\"][index]\n",
    "            lengths = (np.sum(x[:, :, -1:], axis=1)).astype(int)\n",
    "            batch_idx = np.hstack(\n",
    "                  [\n",
    "                      np.ones(length) * batch_idx\n",
    "                      for batch_idx, length in enumerate(lengths)\n",
    "                  ]\n",
    "              )\n",
    "            x = x[x[:, :, -1] == 1][:, self.x_mask]\n",
    "            y = self.encoder.transform(f[\"y\"][index][self.y_feature].reshape(-1,1)).argmax(1)\n",
    "            y = torch.LongTensor(y)\n",
    "            \n",
    "        return x, y, torch.LongTensor(batch_idx)\n",
    "\n",
    "    def __len__(self):\n",
    "        return self.length"
   ]
  },
  {
   "cell_type": "code",
   "execution_count": 163,
   "id": "e724e3b6-4519-4a3d-9781-3968fa0e6d6e",
   "metadata": {},
   "outputs": [
    {
     "name": "stdout",
     "output_type": "stream",
     "text": [
      "The available y features are:  ('event_id', 'particle_type', 'energy', 'is_cc', 'bjorkeny', 'dir_x', 'dir_y', 'dir_z', 'time_interaction', 'run_id', 'vertex_pos_x', 'vertex_pos_y', 'vertex_pos_z', 'n_hits', 'weight_w1', 'weight_w2', 'weight_w3', 'n_gen', 'prod_identifier', 'std_dir_x', 'std_dir_y', 'std_dir_z', 'std_beta0', 'std_lik', 'std_n_hits_gandalf', 'std_pos_x', 'std_pos_y', 'std_pos_z', 'std_energy', 'std_lik_energy', 'std_length', 'group_id')\n",
      "cached the following x input features {'channel_id': 0, 'dir_x': 1, 'dir_y': 2, 'dir_z': 3, 'dom_id': 4, 'du': 5, 'floor': 6, 'group_id': 7, 'pos_x': 8, 'pos_y': 9, 'pos_z': 10, 't0': 11, 'time': 12, 'tot': 13, 'triggered': 14, 'is_valid': 15}\n"
     ]
    }
   ],
   "source": [
    "train_data = HDF5Dataset(path,features=[\"pos_x\", \"pos_y\", \"pos_z\", \"time\",\"tot\", \"dir_x\", \"dir_y\", \"dir_z\"], y_feature=\"particle_type\", batch_size=16)"
   ]
  },
  {
   "cell_type": "code",
   "execution_count": 164,
   "id": "0d594c1e-2c20-4ed5-b406-711ddb218b04",
   "metadata": {},
   "outputs": [],
   "source": [
    "x,y,i=train_data.__getitem__(1)"
   ]
  },
  {
   "cell_type": "code",
   "execution_count": 209,
   "id": "503c40fc-3988-4e46-9e8f-d14c4a063c3f",
   "metadata": {},
   "outputs": [],
   "source": [
    "class DECNetwork(pl.LightningModule):\n",
    "    def __init__(self, batchnorm_kwargs=None, conf=None):\n",
    "        \"\"\"Dynamic EdgeConvolution Network https://arxiv.org/abs/1801.07829 with\n",
    "           the dynamic KNN computation as presented in https://arxiv.org/abs/1902.08570 \"\"\"\n",
    "        super().__init__()\n",
    "        ## Lightning configuration\n",
    "        self.accuracy = pl.metrics.Accuracy()\n",
    "        ## Defining the Network Architecture\n",
    "        nn = Sequential(\n",
    "            Linear(2 * 8, 64),\n",
    "            BatchNorm1d(64),\n",
    "            ReLU(),\n",
    "            Linear(64, 64),\n",
    "            BatchNorm1d(64),\n",
    "            ReLU(),\n",
    "            Linear(64, 64),\n",
    "            BatchNorm1d(64),\n",
    "            ReLU(),\n",
    "        )\n",
    "        self.edge_1 = DynamicEdgeConv(nn, aggr=\"mean\", k=32)\n",
    "        nn = Sequential(\n",
    "            Linear(128, 128),\n",
    "            BatchNorm1d(128),\n",
    "            ReLU(),\n",
    "            Linear(128, 128),\n",
    "            BatchNorm1d(128),\n",
    "            ReLU(),\n",
    "            Linear(128, 128),\n",
    "            BatchNorm1d(128),\n",
    "            ReLU(),\n",
    "        )\n",
    "        self.edge_2 = DynamicEdgeConv(nn, aggr=\"mean\", k=32)\n",
    "        nn = Sequential(\n",
    "            Linear(256, 256),\n",
    "            BatchNorm1d(256),\n",
    "            ReLU(),\n",
    "            Linear(256, 256),\n",
    "            BatchNorm1d(256),\n",
    "            ReLU(),\n",
    "            Linear(256, 256),\n",
    "            BatchNorm1d(256),\n",
    "            ReLU(),\n",
    "        )\n",
    "        self.edge_3 = DynamicEdgeConv(nn, aggr=\"mean\", k=32)\n",
    "        self.shortcut_1 = Sequential(Linear(8, 64), BatchNorm1d(64), ReLU())\n",
    "        self.shortcut_2 = Sequential(Linear(64, 128), BatchNorm1d(128), ReLU())\n",
    "        self.shortcut_3 = Sequential(Linear(128, 256), BatchNorm1d(256), ReLU())\n",
    "        self.lin_1 = Linear(256, 256)\n",
    "        self.lin_2 = Linear(256, 128)\n",
    "        self.lin_3 = Linear(128, 5)\n",
    "    \n",
    "    def forward(self, data):\n",
    "        x, batch_idx = data.x, data.batch\n",
    "        # in lightning, forward defines the prediction/inference actions\n",
    "        # edgeconv layer 1\n",
    "        sc = self.shortcut_1(x)\n",
    "        x = self.edge_1(x, batch_idx)\n",
    "        x = F.relu(x + sc)\n",
    "        # edgeconv layer 2\n",
    "        sc = self.shortcut_2(x)\n",
    "        x = self.edge_2(x, batch_idx)\n",
    "        x = F.relu(x + sc)\n",
    "        # edgeconv layer 3\n",
    "        sc = self.shortcut_3(x)\n",
    "        x = self.edge_3(x, batch_idx)\n",
    "        x = F.relu(x + sc)\n",
    "        x = global_mean_pool(x, batch=batch_idx)\n",
    "        # now apply\n",
    "        x = F.relu(self.lin_1(x))\n",
    "        x = F.relu(self.lin_2(x))\n",
    "        x = self.lin_3(x)\n",
    "        return F.relu(x)\n",
    "    \n",
    "    def training_step(self, batch, batch_idx):\n",
    "        # training_step defined the train loop. It is independent of forward\n",
    "        batch = Batch(\n",
    "            x=batch[0].squeeze(), y=batch[1].squeeze(), batch=batch[2].squeeze(),\n",
    "        )\n",
    "        out = self.forward(batch)\n",
    "        loss = F.cross_entropy(out, batch.y)\n",
    "        self.log(\"train_loss\", loss)\n",
    "        self.log('train_acc_step', self.accuracy(F.softmax(out,dim=-1), batch.y), on_epoch=False)\n",
    "        return loss\n",
    "\n",
    "    def validation_step(self, batch, batch_idx):\n",
    "        batch = Batch(\n",
    "            x=batch[0].squeeze(), y=batch[1].squeeze(), batch=batch[2].squeeze(),\n",
    "        )\n",
    "        y_hat = self.forward(batch)\n",
    "        loss = F.cross_entropy(y_hat, batch.y)\n",
    "        self.log(\"val_loss\", loss)\n",
    "        self.log('valid_acc', self.accuracy(F.softmax(y_hat, dim=-1), batch.y), on_step=True, on_epoch=True)\n",
    "        #self.log('valid_matrix', self.confusionmatrix(F.softmax(y_hat), batch.y), on_epoch=True)\n",
    "    \n",
    "    def test_step(self,batch,batch_idx):\n",
    "        batch = Batch(\n",
    "            x=batch[0].squeeze(),y=batch[1].squeeze(),batch=batch[2].squeeze(),\n",
    "        )\n",
    "        y_hat = self.forward(batch)\n",
    "        loss = F.cross_entropy(y_hat, batch.y)\n",
    "        y_proba=F.softmax(y_hat, dim=-1)\n",
    "        predictions_pred.append(y_proba)\n",
    "        predictions_actual.append(batch.y)\n",
    "        \n",
    "        self.log(\"test_loss\", loss)\n",
    "        self.log('test_acc', self.accuracy(y_proba, batch.y), on_step=True, on_epoch=True)\n",
    "        return {'test_loss': loss, 'y': batch.y, 'y_proba': y_proba}\n",
    "        \n",
    "    def configure_optimizers(self):\n",
    "        optimizer = torch.optim.Adam(self.parameters(), lr=1e-3)\n",
    "        return optimizer\n"
   ]
  },
  {
   "cell_type": "code",
   "execution_count": 210,
   "id": "a2071090-c754-40bc-9ff3-bc81505571ef",
   "metadata": {},
   "outputs": [
    {
     "name": "stdout",
     "output_type": "stream",
     "text": [
      "The available y features are:  ('event_id', 'particle_type', 'energy', 'is_cc', 'bjorkeny', 'dir_x', 'dir_y', 'dir_z', 'time_interaction', 'run_id', 'vertex_pos_x', 'vertex_pos_y', 'vertex_pos_z', 'n_hits', 'weight_w1', 'weight_w2', 'weight_w3', 'n_gen', 'prod_identifier', 'std_dir_x', 'std_dir_y', 'std_dir_z', 'std_beta0', 'std_lik', 'std_n_hits_gandalf', 'std_pos_x', 'std_pos_y', 'std_pos_z', 'std_energy', 'std_lik_energy', 'std_length', 'group_id')\n",
      "cached the following x input features {'channel_id': 0, 'dir_x': 1, 'dir_y': 2, 'dir_z': 3, 'dom_id': 4, 'du': 5, 'floor': 6, 'group_id': 7, 'pos_x': 8, 'pos_y': 9, 'pos_z': 10, 't0': 11, 'time': 12, 'tot': 13, 'triggered': 14, 'is_valid': 15}\n"
     ]
    }
   ],
   "source": [
    "train_data = HDF5Dataset(path,features=[\"pos_x\", \"pos_y\", \"pos_z\", \"time\",\"tot\", \"dir_x\", \"dir_y\", \"dir_z\"], y_feature=\"particle_type\", batch_size=16)\n",
    "\n",
    "train_loader = DataLoader(\n",
    "    train_data,\n",
    "    batch_size=1,\n",
    "    num_workers=4,\n",
    "    pin_memory=True,\n",
    "    shuffle=False,\n",
    ")\n"
   ]
  },
  {
   "cell_type": "code",
   "execution_count": 211,
   "id": "883867af-3d01-418d-84d7-89d005a07f63",
   "metadata": {},
   "outputs": [
    {
     "name": "stdout",
     "output_type": "stream",
     "text": [
      "The available y features are:  ('event_id', 'particle_type', 'energy', 'is_cc', 'bjorkeny', 'dir_x', 'dir_y', 'dir_z', 'time_interaction', 'run_id', 'vertex_pos_x', 'vertex_pos_y', 'vertex_pos_z', 'n_hits', 'weight_w1', 'weight_w2', 'weight_w3', 'n_gen', 'prod_identifier', 'std_dir_x', 'std_dir_y', 'std_dir_z', 'std_beta0', 'std_lik', 'std_n_hits_gandalf', 'std_pos_x', 'std_pos_y', 'std_pos_z', 'std_energy', 'std_lik_energy', 'std_length', 'group_id')\n",
      "cached the following x input features {'channel_id': 0, 'dir_x': 1, 'dir_y': 2, 'dir_z': 3, 'dom_id': 4, 'du': 5, 'floor': 6, 'group_id': 7, 'pos_x': 8, 'pos_y': 9, 'pos_z': 10, 't0': 11, 'time': 12, 'tot': 13, 'triggered': 14, 'is_valid': 15}\n"
     ]
    }
   ],
   "source": [
    "val_data = HDF5Dataset(\"../project_data/small_set_1_validate_0_shuffled.h5\",features=[\"pos_x\", \"pos_y\", \"pos_z\", \"time\",\"tot\", \"dir_x\", \"dir_y\", \"dir_z\"], y_feature=\"particle_type\", batch_size=32)\n",
    "val_data.encoder=train_data.encoder\n",
    "val_loader = DataLoader(\n",
    "    val_data,\n",
    "    batch_size=1,\n",
    "    num_workers=4,\n",
    "    pin_memory=True,\n",
    "    shuffle=False,\n",
    ")"
   ]
  },
  {
   "cell_type": "code",
   "execution_count": 212,
   "id": "fc25d348-131b-448e-8efd-c1a311d295ce",
   "metadata": {},
   "outputs": [],
   "source": [
    "#model = DECNetwork(batchnorm_kwargs={\"eps\": 1e-3, \"momentum\": 1e-1})\n",
    "model = DECNetwork()"
   ]
  },
  {
   "cell_type": "code",
   "execution_count": 215,
   "id": "5c3eda30-a71c-4315-b3d3-80ba84e04436",
   "metadata": {},
   "outputs": [
    {
     "name": "stderr",
     "output_type": "stream",
     "text": [
      "GPU available: True, used: True\n",
      "TPU available: False, using: 0 TPU cores\n"
     ]
    }
   ],
   "source": [
    "trainer = pl.Trainer(\n",
    "    max_epochs=12,\n",
    "    gpus=1,\n",
    "    precision=32,\n",
    "    log_every_n_steps=1000,\n",
    "    progress_bar_refresh_rate=100,\n",
    "    fast_dev_run=False,\n",
    ")"
   ]
  },
  {
   "cell_type": "code",
   "execution_count": null,
   "id": "ebd87c0f-6430-4b70-ab98-9d7bca19e6b3",
   "metadata": {},
   "outputs": [
    {
     "name": "stderr",
     "output_type": "stream",
     "text": [
      "LOCAL_RANK: 0 - CUDA_VISIBLE_DEVICES: [0]\n",
      "\n",
      "  | Name       | Type            | Params\n",
      "-----------------------------------------------\n",
      "0 | accuracy   | Accuracy        | 0     \n",
      "1 | edge_1     | DynamicEdgeConv | 9.8 K \n",
      "2 | edge_2     | DynamicEdgeConv | 50.3 K\n",
      "3 | edge_3     | DynamicEdgeConv | 198 K \n",
      "4 | shortcut_1 | Sequential      | 704   \n",
      "5 | shortcut_2 | Sequential      | 8.6 K \n",
      "6 | shortcut_3 | Sequential      | 33.5 K\n",
      "7 | lin_1      | Linear          | 65.8 K\n",
      "8 | lin_2      | Linear          | 32.9 K\n",
      "9 | lin_3      | Linear          | 645   \n",
      "-----------------------------------------------\n",
      "401 K     Trainable params\n",
      "0         Non-trainable params\n",
      "401 K     Total params\n",
      "1.605     Total estimated model params size (MB)\n"
     ]
    },
    {
     "name": "stdout",
     "output_type": "stream",
     "text": [
      "Epoch 0:  91%|█████████ | 25700/28179 [1:31:47<08:51,  4.67it/s, loss=0.903, v_num=32]\n",
      "Validating: 0it [00:00, ?it/s]\u001b[A\n",
      "Validating:   0%|          | 0/2493 [00:00<?, ?it/s]\u001b[A\n",
      "Epoch 0:  92%|█████████▏| 25800/28179 [1:32:00<08:29,  4.67it/s, loss=0.903, v_num=32]\n",
      "Epoch 0:  92%|█████████▏| 25900/28179 [1:32:12<08:06,  4.68it/s, loss=0.903, v_num=32]\n",
      "Epoch 0:  92%|█████████▏| 26000/28179 [1:32:24<07:44,  4.69it/s, loss=0.903, v_num=32]\n",
      "Epoch 0:  93%|█████████▎| 26100/28179 [1:32:36<07:22,  4.70it/s, loss=0.903, v_num=32]\n",
      "Epoch 0:  93%|█████████▎| 26200/28179 [1:32:51<07:00,  4.70it/s, loss=0.903, v_num=32]\n",
      "Epoch 0:  93%|█████████▎| 26300/28179 [1:33:06<06:39,  4.71it/s, loss=0.903, v_num=32]\n",
      "Epoch 0:  94%|█████████▎| 26400/28179 [1:33:22<06:17,  4.71it/s, loss=0.903, v_num=32]\n",
      "Epoch 0:  94%|█████████▍| 26500/28179 [1:33:36<05:55,  4.72it/s, loss=0.903, v_num=32]\n",
      "Epoch 0:  94%|█████████▍| 26600/28179 [1:33:50<05:34,  4.72it/s, loss=0.903, v_num=32]\n",
      "Epoch 0:  95%|█████████▍| 26700/28179 [1:34:00<05:12,  4.73it/s, loss=0.903, v_num=32]\n",
      "Epoch 0:  95%|█████████▌| 26800/28179 [1:34:12<04:50,  4.74it/s, loss=0.903, v_num=32]\n",
      "Epoch 0:  95%|█████████▌| 26900/28179 [1:34:26<04:29,  4.75it/s, loss=0.903, v_num=32]\n",
      "Epoch 0:  96%|█████████▌| 27000/28179 [1:34:38<04:07,  4.75it/s, loss=0.903, v_num=32]\n",
      "Epoch 0:  96%|█████████▌| 27100/28179 [1:34:57<03:46,  4.76it/s, loss=0.903, v_num=32]\n",
      "Epoch 0:  97%|█████████▋| 27200/28179 [1:35:14<03:25,  4.76it/s, loss=0.903, v_num=32]\n",
      "Epoch 0:  97%|█████████▋| 27300/28179 [1:35:29<03:04,  4.77it/s, loss=0.903, v_num=32]\n",
      "Epoch 0:  97%|█████████▋| 27400/28179 [1:35:42<02:43,  4.77it/s, loss=0.903, v_num=32]\n",
      "Epoch 0:  98%|█████████▊| 27500/28179 [1:35:54<02:22,  4.78it/s, loss=0.903, v_num=32]\n",
      "Epoch 0:  98%|█████████▊| 27600/28179 [1:36:11<02:01,  4.78it/s, loss=0.903, v_num=32]\n",
      "Epoch 0:  98%|█████████▊| 27700/28179 [1:36:25<01:40,  4.79it/s, loss=0.903, v_num=32]\n",
      "Epoch 0:  99%|█████████▊| 27800/28179 [1:36:39<01:19,  4.79it/s, loss=0.903, v_num=32]\n",
      "Epoch 0:  99%|█████████▉| 27900/28179 [1:36:53<00:58,  4.80it/s, loss=0.903, v_num=32]\n",
      "Epoch 0:  99%|█████████▉| 28000/28179 [1:37:08<00:37,  4.80it/s, loss=0.903, v_num=32]\n",
      "Epoch 0: 100%|█████████▉| 28100/28179 [1:37:24<00:16,  4.81it/s, loss=0.903, v_num=32]\n",
      "Epoch 0: 100%|██████████| 28179/28179 [1:37:37<00:00,  4.81it/s, loss=0.804, v_num=32]\n",
      "Epoch 1:  91%|█████████ | 25700/28179 [1:31:56<08:52,  4.66it/s, loss=0.866, v_num=32]\n",
      "Validating: 0it [00:00, ?it/s]\u001b[A\n",
      "Validating:   0%|          | 0/2493 [00:00<?, ?it/s]\u001b[A\n",
      "Epoch 1:  92%|█████████▏| 25800/28179 [1:32:10<08:29,  4.67it/s, loss=0.866, v_num=32]\n",
      "Epoch 1:  92%|█████████▏| 25900/28179 [1:32:21<08:07,  4.67it/s, loss=0.866, v_num=32]\n",
      "Epoch 1:  92%|█████████▏| 26000/28179 [1:32:33<07:45,  4.68it/s, loss=0.866, v_num=32]\n",
      "Epoch 1:  93%|█████████▎| 26100/28179 [1:32:46<07:23,  4.69it/s, loss=0.866, v_num=32]\n",
      "Epoch 1:  93%|█████████▎| 26200/28179 [1:33:01<07:01,  4.69it/s, loss=0.866, v_num=32]\n",
      "Epoch 1:  93%|█████████▎| 26300/28179 [1:33:15<06:39,  4.70it/s, loss=0.866, v_num=32]\n",
      "Epoch 1:  94%|█████████▎| 26400/28179 [1:33:31<06:18,  4.70it/s, loss=0.866, v_num=32]\n",
      "Epoch 1:  94%|█████████▍| 26500/28179 [1:33:46<05:56,  4.71it/s, loss=0.866, v_num=32]\n",
      "Epoch 1:  94%|█████████▍| 26600/28179 [1:33:59<05:34,  4.72it/s, loss=0.866, v_num=32]\n",
      "Epoch 1:  95%|█████████▍| 26700/28179 [1:34:09<05:12,  4.73it/s, loss=0.866, v_num=32]\n",
      "Epoch 1:  95%|█████████▌| 26800/28179 [1:34:22<04:51,  4.73it/s, loss=0.866, v_num=32]\n",
      "Epoch 1:  95%|█████████▌| 26900/28179 [1:34:36<04:29,  4.74it/s, loss=0.866, v_num=32]\n",
      "Epoch 1:  96%|█████████▌| 27000/28179 [1:34:48<04:08,  4.75it/s, loss=0.866, v_num=32]\n",
      "Epoch 1:  96%|█████████▌| 27100/28179 [1:35:06<03:47,  4.75it/s, loss=0.866, v_num=32]\n",
      "Epoch 1:  97%|█████████▋| 27200/28179 [1:35:23<03:26,  4.75it/s, loss=0.866, v_num=32]\n",
      "Epoch 1:  97%|█████████▋| 27300/28179 [1:35:38<03:04,  4.76it/s, loss=0.866, v_num=32]\n",
      "Epoch 1:  97%|█████████▋| 27400/28179 [1:35:52<02:43,  4.76it/s, loss=0.866, v_num=32]\n",
      "Epoch 1:  98%|█████████▊| 27500/28179 [1:36:03<02:22,  4.77it/s, loss=0.866, v_num=32]\n",
      "Epoch 1:  98%|█████████▊| 27600/28179 [1:36:21<02:01,  4.77it/s, loss=0.866, v_num=32]\n",
      "Epoch 1:  98%|█████████▊| 27700/28179 [1:36:35<01:40,  4.78it/s, loss=0.866, v_num=32]\n",
      "Epoch 1:  99%|█████████▊| 27800/28179 [1:36:48<01:19,  4.79it/s, loss=0.866, v_num=32]\n",
      "Epoch 1:  99%|█████████▉| 27900/28179 [1:37:03<00:58,  4.79it/s, loss=0.866, v_num=32]\n",
      "Epoch 1:  99%|█████████▉| 28000/28179 [1:37:18<00:37,  4.80it/s, loss=0.866, v_num=32]\n",
      "Epoch 1: 100%|█████████▉| 28100/28179 [1:37:34<00:16,  4.80it/s, loss=0.866, v_num=32]\n",
      "Epoch 1: 100%|██████████| 28179/28179 [1:37:47<00:00,  4.80it/s, loss=0.758, v_num=32]\n",
      "Epoch 2:  91%|█████████ | 25700/28179 [1:31:56<08:52,  4.66it/s, loss=0.859, v_num=32]\n",
      "Validating: 0it [00:00, ?it/s]\u001b[A\n",
      "Validating:   0%|          | 0/2493 [00:00<?, ?it/s]\u001b[A\n",
      "Epoch 2:  92%|█████████▏| 25800/28179 [1:32:10<08:29,  4.67it/s, loss=0.859, v_num=32]\n",
      "Epoch 2:  92%|█████████▏| 25900/28179 [1:32:21<08:07,  4.67it/s, loss=0.859, v_num=32]\n",
      "Epoch 2:  92%|█████████▏| 26000/28179 [1:32:34<07:45,  4.68it/s, loss=0.859, v_num=32]\n",
      "Epoch 2:  93%|█████████▎| 26100/28179 [1:32:46<07:23,  4.69it/s, loss=0.859, v_num=32]\n",
      "Epoch 2:  93%|█████████▎| 26200/28179 [1:33:01<07:01,  4.69it/s, loss=0.859, v_num=32]\n",
      "Epoch 2:  93%|█████████▎| 26300/28179 [1:33:15<06:39,  4.70it/s, loss=0.859, v_num=32]\n",
      "Epoch 2:  94%|█████████▎| 26400/28179 [1:33:31<06:18,  4.70it/s, loss=0.859, v_num=32]\n",
      "Epoch 2:  94%|█████████▍| 26500/28179 [1:33:46<05:56,  4.71it/s, loss=0.859, v_num=32]\n",
      "Epoch 2:  94%|█████████▍| 26600/28179 [1:33:59<05:34,  4.72it/s, loss=0.859, v_num=32]\n",
      "Epoch 2:  95%|█████████▍| 26700/28179 [1:34:09<05:12,  4.73it/s, loss=0.859, v_num=32]\n",
      "Epoch 2:  95%|█████████▌| 26800/28179 [1:34:22<04:51,  4.73it/s, loss=0.859, v_num=32]\n",
      "Epoch 2:  95%|█████████▌| 26900/28179 [1:34:36<04:29,  4.74it/s, loss=0.859, v_num=32]\n",
      "Epoch 2:  96%|█████████▌| 27000/28179 [1:34:48<04:08,  4.75it/s, loss=0.859, v_num=32]\n",
      "Epoch 2:  96%|█████████▌| 27100/28179 [1:35:06<03:47,  4.75it/s, loss=0.859, v_num=32]\n",
      "Epoch 2:  97%|█████████▋| 27200/28179 [1:35:23<03:26,  4.75it/s, loss=0.859, v_num=32]\n",
      "Epoch 2:  97%|█████████▋| 27300/28179 [1:35:39<03:04,  4.76it/s, loss=0.859, v_num=32]\n",
      "Epoch 2:  97%|█████████▋| 27400/28179 [1:35:52<02:43,  4.76it/s, loss=0.859, v_num=32]\n",
      "Epoch 2:  98%|█████████▊| 27500/28179 [1:36:03<02:22,  4.77it/s, loss=0.859, v_num=32]\n",
      "Epoch 2:  98%|█████████▊| 27600/28179 [1:36:21<02:01,  4.77it/s, loss=0.859, v_num=32]\n",
      "Epoch 2:  98%|█████████▊| 27700/28179 [1:36:35<01:40,  4.78it/s, loss=0.859, v_num=32]\n",
      "Epoch 2:  99%|█████████▊| 27800/28179 [1:36:48<01:19,  4.79it/s, loss=0.859, v_num=32]\n",
      "Epoch 2:  99%|█████████▉| 27900/28179 [1:37:03<00:58,  4.79it/s, loss=0.859, v_num=32]\n",
      "Epoch 2:  99%|█████████▉| 28000/28179 [1:37:18<00:37,  4.80it/s, loss=0.859, v_num=32]\n",
      "Epoch 2: 100%|█████████▉| 28100/28179 [1:37:34<00:16,  4.80it/s, loss=0.859, v_num=32]\n",
      "Epoch 2: 100%|██████████| 28179/28179 [1:37:47<00:00,  4.80it/s, loss=0.753, v_num=32]\n",
      "Epoch 3:  24%|██▍       | 6700/28179 [23:50<1:16:25,  4.68it/s, loss=0.772, v_num=32] "
     ]
    }
   ],
   "source": [
    "trainer.fit(model, train_loader, val_loader)"
   ]
  },
  {
   "cell_type": "code",
   "execution_count": 183,
   "id": "9445393e-9e60-45c2-805e-178f1e995439",
   "metadata": {},
   "outputs": [],
   "source": [
    "trainer.save_checkpoint(trainer.log_dir+\"/trained_model.ckpt\")"
   ]
  },
  {
   "cell_type": "code",
   "execution_count": 205,
   "id": "6ece25f7-fdda-4802-a79f-4b31e71a541e",
   "metadata": {},
   "outputs": [],
   "source": [
    "val_loader = DataLoader(\n",
    "    val_data,\n",
    "    batch_size=1,\n",
    "    num_workers=4,\n",
    "    pin_memory=True,\n",
    "    shuffle=False,\n",
    ")\n"
   ]
  },
  {
   "cell_type": "code",
   "execution_count": 189,
   "id": "f6242afa-6f1e-425b-97d9-5e9c2a9875b1",
   "metadata": {},
   "outputs": [
    {
     "name": "stderr",
     "output_type": "stream",
     "text": [
      "LOCAL_RANK: 0 - CUDA_VISIBLE_DEVICES: [0]\n"
     ]
    },
    {
     "name": "stdout",
     "output_type": "stream",
     "text": [
      "Testing: 100%|██████████| 2493/2493 [02:48<00:00, 14.82it/s]\n",
      "--------------------------------------------------------------------------------\n",
      "DATALOADER:0 TEST RESULTS\n",
      "{'test_acc': 0.6521739363670349,\n",
      " 'test_acc_epoch': 0.6544432640075684,\n",
      " 'test_loss': 0.7578634023666382}\n",
      "--------------------------------------------------------------------------------\n"
     ]
    },
    {
     "data": {
      "text/plain": [
       "[{'test_loss': 0.7578634023666382,\n",
       "  'test_acc_epoch': 0.6544432640075684,\n",
       "  'test_acc': 0.6521739363670349}]"
      ]
     },
     "execution_count": 189,
     "metadata": {},
     "output_type": "execute_result"
    }
   ],
   "source": [
    "predictions_pred = []\n",
    "predictions_actual = []\n",
    "trainer.test(model,val_loader)"
   ]
  },
  {
   "cell_type": "code",
   "execution_count": 190,
   "id": "56bc26fb-bce5-4645-a679-ad9757fff9e4",
   "metadata": {},
   "outputs": [],
   "source": [
    "probas=np.empty(5)\n",
    "y_actual=np.empty(1)\n",
    "for i in range(len(predictions_pred)):\n",
    "    probas=np.vstack([probas,predictions_pred[i].cpu().numpy()])\n",
    "    y_actual=np.vstack([y_actual,predictions_actual[i].cpu().numpy().reshape(-1,1)])"
   ]
  },
  {
   "cell_type": "code",
   "execution_count": 191,
   "id": "4a0ec612-6f2a-46e7-9677-114c7672e102",
   "metadata": {},
   "outputs": [],
   "source": [
    "from sklearn.metrics import confusion_matrix\n",
    "from sklearn.metrics import ConfusionMatrixDisplay\n",
    "cm=confusion_matrix(y_actual.astype(int),probas.argmax(axis=1))"
   ]
  },
  {
   "cell_type": "code",
   "execution_count": 192,
   "id": "7499000a-a416-4013-b303-a6ba1d6efd64",
   "metadata": {},
   "outputs": [],
   "source": [
    "labels=list()\n",
    "for name in val_data.encoder.get_feature_names():\n",
    "    labels.append(name[3:])"
   ]
  },
  {
   "cell_type": "code",
   "execution_count": 193,
   "id": "eda6facc-86d1-49b7-a345-53fa37092b91",
   "metadata": {},
   "outputs": [
    {
     "data": {
      "text/plain": [
       "<sklearn.metrics._plot.confusion_matrix.ConfusionMatrixDisplay at 0x7fd6b9d23d90>"
      ]
     },
     "execution_count": 193,
     "metadata": {},
     "output_type": "execute_result"
    },
    {
     "data": {
      "image/png": "[encoded data removed]",
      "text/plain": [
       "<Figure size 432x288 with 2 Axes>"
      ]
     },
     "metadata": {
      "needs_background": "light"
     },
     "output_type": "display_data"
    }
   ],
   "source": [
    "disp=ConfusionMatrixDisplay(cm,display_labels=labels)\n",
    "disp.plot()"
   ]
  },
  {
   "cell_type": "code",
   "execution_count": 196,
   "id": "4f205dd6-6024-4d2f-94e3-ce3a6040f1e8",
   "metadata": {},
   "outputs": [
    {
     "data": {
      "text/plain": [
       "array([[ 1040,  3065,  2317,     1,  8206],\n",
       "       [  116, 38262,    35,     0,   565],\n",
       "       [    7,    88,  4287,     5,  1781],\n",
       "       [    7,    82,  3360,     2,  1556],\n",
       "       [  869,  2711,  2789,     4,  8613]])"
      ]
     },
     "execution_count": 196,
     "metadata": {},
     "output_type": "execute_result"
    }
   ],
   "source": [
    "cm"
   ]
  },
  {
   "cell_type": "code",
   "execution_count": null,
   "id": "3b9d07e6-16c6-4dc0-9dbe-1dca414231d1",
   "metadata": {},
   "outputs": [],
   "source": [
    "disp.figure_.savefig('confusion_matrix_run31')"
   ]
  },
  {
   "cell_type": "code",
   "execution_count": null,
   "id": "3e111a7c-7478-4594-8941-0a9d95cca1be",
   "metadata": {},
   "outputs": [],
   "source": []
  },
  {
   "cell_type": "code",
   "execution_count": null,
   "id": "74bb1367-3a45-4e77-96d7-9d485afd9543",
   "metadata": {},
   "outputs": [],
   "source": [
    "inference = DECNetwork().load_from_checkpoint(checkpoint_path=\"lightning_logs/version_31/trained_model.ckpt\")"
   ]
  }
 ],
 "metadata": {
  "kernelspec": {
   "display_name": "Python 3",
   "language": "python",
   "name": "python3"
  },
  "language_info": {
   "codemirror_mode": {
    "name": "ipython",
    "version": 3
   },
   "file_extension": ".py",
   "mimetype": "text/x-python",
   "name": "python",
   "nbconvert_exporter": "python",
   "pygments_lexer": "ipython3",
   "version": "3.8.5"
  }
 },
 "nbformat": 4,
 "nbformat_minor": 5
}
